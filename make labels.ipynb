{
 "cells": [
  {
   "cell_type": "code",
   "execution_count": 1,
   "metadata": {},
   "outputs": [],
   "source": [
    "import pandas as pd\n",
    "import numpy as np"
   ]
  },
  {
   "cell_type": "code",
   "execution_count": 2,
   "metadata": {},
   "outputs": [],
   "source": [
    "pd.options.display.max_colwidth = 100"
   ]
  },
  {
   "cell_type": "code",
   "execution_count": 3,
   "metadata": {},
   "outputs": [],
   "source": [
    "import matplotlib.pyplot as plt\n",
    "import seaborn as sns\n",
    "%matplotlib inline"
   ]
  },
  {
   "cell_type": "code",
   "execution_count": 4,
   "metadata": {},
   "outputs": [],
   "source": [
    "root = '../input/'"
   ]
  },
  {
   "cell_type": "code",
   "execution_count": 5,
   "metadata": {},
   "outputs": [],
   "source": [
    "cols = ['name', 'file_name','image_url', 'title', 'author', 'category_id', 'category']\n",
    "train_meta_data = pd.read_csv('../input/book30-listing-train.csv', encoding='ISO-8859-1', names=cols)\n",
    "test_meta_data = pd.read_csv('../input/book30-listing-test.csv', encoding='ISO-8859-1', names=cols)"
   ]
  },
  {
   "cell_type": "code",
   "execution_count": 6,
   "metadata": {},
   "outputs": [
    {
     "data": {
      "text/html": [
       "<div>\n",
       "<style scoped>\n",
       "    .dataframe tbody tr th:only-of-type {\n",
       "        vertical-align: middle;\n",
       "    }\n",
       "\n",
       "    .dataframe tbody tr th {\n",
       "        vertical-align: top;\n",
       "    }\n",
       "\n",
       "    .dataframe thead th {\n",
       "        text-align: right;\n",
       "    }\n",
       "</style>\n",
       "<table border=\"1\" class=\"dataframe\">\n",
       "  <thead>\n",
       "    <tr style=\"text-align: right;\">\n",
       "      <th></th>\n",
       "      <th>name</th>\n",
       "      <th>file_name</th>\n",
       "      <th>image_url</th>\n",
       "      <th>title</th>\n",
       "      <th>author</th>\n",
       "      <th>category_id</th>\n",
       "      <th>category</th>\n",
       "    </tr>\n",
       "  </thead>\n",
       "  <tbody>\n",
       "    <tr>\n",
       "      <th>0</th>\n",
       "      <td>1588345297</td>\n",
       "      <td>1588345297.jpg</td>\n",
       "      <td>http://ecx.images-amazon.com/images/I/51l6XIoa3rL.jpg</td>\n",
       "      <td>With Schwarzkopf: Life Lessons of The Bear</td>\n",
       "      <td>Gus Lee</td>\n",
       "      <td>1</td>\n",
       "      <td>Biographies &amp; Memoirs</td>\n",
       "    </tr>\n",
       "    <tr>\n",
       "      <th>1</th>\n",
       "      <td>1404803335</td>\n",
       "      <td>1404803335.jpg</td>\n",
       "      <td>http://ecx.images-amazon.com/images/I/51UJnL3Tx6L.jpg</td>\n",
       "      <td>Magnets: Pulling Together, Pushing Apart (Amazing Science)</td>\n",
       "      <td>Natalie M. Rosinsky</td>\n",
       "      <td>4</td>\n",
       "      <td>Children's Books</td>\n",
       "    </tr>\n",
       "    <tr>\n",
       "      <th>2</th>\n",
       "      <td>1446276082</td>\n",
       "      <td>1446276082.jpg</td>\n",
       "      <td>http://ecx.images-amazon.com/images/I/51MGUKhkyhL.jpg</td>\n",
       "      <td>Energy Security (SAGE Library of International Security)</td>\n",
       "      <td>NaN</td>\n",
       "      <td>10</td>\n",
       "      <td>Engineering &amp; Transportation</td>\n",
       "    </tr>\n",
       "    <tr>\n",
       "      <th>3</th>\n",
       "      <td>1491522666</td>\n",
       "      <td>1491522666.jpg</td>\n",
       "      <td>http://ecx.images-amazon.com/images/I/51qKvjsi3ML.jpg</td>\n",
       "      <td>An Amish Gathering: Life in Lancaster County</td>\n",
       "      <td>Beth Wiseman</td>\n",
       "      <td>9</td>\n",
       "      <td>Christian Books &amp; Bibles</td>\n",
       "    </tr>\n",
       "    <tr>\n",
       "      <th>4</th>\n",
       "      <td>970096410</td>\n",
       "      <td>0970096410.jpg</td>\n",
       "      <td>http://ecx.images-amazon.com/images/I/51qoUENb1CL.jpg</td>\n",
       "      <td>City of Rocks Idaho: A Climber's Guide (Regional Rock Climbing Series)</td>\n",
       "      <td>Dave Bingham</td>\n",
       "      <td>26</td>\n",
       "      <td>Sports &amp; Outdoors</td>\n",
       "    </tr>\n",
       "  </tbody>\n",
       "</table>\n",
       "</div>"
      ],
      "text/plain": [
       "         name       file_name  \\\n",
       "0  1588345297  1588345297.jpg   \n",
       "1  1404803335  1404803335.jpg   \n",
       "2  1446276082  1446276082.jpg   \n",
       "3  1491522666  1491522666.jpg   \n",
       "4   970096410  0970096410.jpg   \n",
       "\n",
       "                                               image_url  \\\n",
       "0  http://ecx.images-amazon.com/images/I/51l6XIoa3rL.jpg   \n",
       "1  http://ecx.images-amazon.com/images/I/51UJnL3Tx6L.jpg   \n",
       "2  http://ecx.images-amazon.com/images/I/51MGUKhkyhL.jpg   \n",
       "3  http://ecx.images-amazon.com/images/I/51qKvjsi3ML.jpg   \n",
       "4  http://ecx.images-amazon.com/images/I/51qoUENb1CL.jpg   \n",
       "\n",
       "                                                                    title  \\\n",
       "0                              With Schwarzkopf: Life Lessons of The Bear   \n",
       "1              Magnets: Pulling Together, Pushing Apart (Amazing Science)   \n",
       "2                Energy Security (SAGE Library of International Security)   \n",
       "3                            An Amish Gathering: Life in Lancaster County   \n",
       "4  City of Rocks Idaho: A Climber's Guide (Regional Rock Climbing Series)   \n",
       "\n",
       "                author  category_id                      category  \n",
       "0              Gus Lee            1         Biographies & Memoirs  \n",
       "1  Natalie M. Rosinsky            4              Children's Books  \n",
       "2                  NaN           10  Engineering & Transportation  \n",
       "3         Beth Wiseman            9      Christian Books & Bibles  \n",
       "4         Dave Bingham           26             Sports & Outdoors  "
      ]
     },
     "execution_count": 6,
     "metadata": {},
     "output_type": "execute_result"
    }
   ],
   "source": [
    "train_meta_data.head()"
   ]
  },
  {
   "cell_type": "code",
   "execution_count": 7,
   "metadata": {},
   "outputs": [
    {
     "name": "stdout",
     "output_type": "stream",
     "text": [
      "['Biographies & Memoirs', \"Children's Books\", 'Engineering & Transportation', 'Christian Books & Bibles', 'Sports & Outdoors', 'Health, Fitness & Dieting', 'Medical Books', 'Science & Math', 'Travel', 'Business & Money', 'Cookbooks, Food & Wine', 'Politics & Social Sciences', 'Crafts, Hobbies & Home', 'Religion & Spirituality', 'Literature & Fiction', 'Humor & Entertainment', 'Law', 'Computers & Technology', 'Test Preparation', 'Arts & Photography', 'Parenting & Relationships', 'Romance', 'History', 'Comics & Graphic Novels', 'Reference', 'Teen & Young Adult', 'Self-Help', 'Calendars', 'Science Fiction & Fantasy', 'Mystery, Thriller & Suspense']\n",
      "No of Classes: 30\n"
     ]
    }
   ],
   "source": [
    "classes = list(train_meta_data.category.unique())\n",
    "print(classes)\n",
    "print('No of Classes:', len(classes))"
   ]
  },
  {
   "cell_type": "code",
   "execution_count": 8,
   "metadata": {},
   "outputs": [],
   "source": [
    "sum_classes = train_meta_data.groupby(by='category').count().name.sum()\n",
    "percent_classes = train_meta_data.groupby(by='category').count().name/sum_classes"
   ]
  },
  {
   "cell_type": "code",
   "execution_count": 9,
   "metadata": {},
   "outputs": [
    {
     "data": {
      "text/plain": [
       "category\n",
       "Arts & Photography              0.033333\n",
       "Biographies & Memoirs           0.033333\n",
       "Business & Money                0.033333\n",
       "Calendars                       0.033333\n",
       "Children's Books                0.033333\n",
       "Christian Books & Bibles        0.033333\n",
       "Comics & Graphic Novels         0.033333\n",
       "Computers & Technology          0.033333\n",
       "Cookbooks, Food & Wine          0.033333\n",
       "Crafts, Hobbies & Home          0.033333\n",
       "Engineering & Transportation    0.033333\n",
       "Health, Fitness & Dieting       0.033333\n",
       "History                         0.033333\n",
       "Humor & Entertainment           0.033333\n",
       "Law                             0.033333\n",
       "Literature & Fiction            0.033333\n",
       "Medical Books                   0.033333\n",
       "Mystery, Thriller & Suspense    0.033333\n",
       "Parenting & Relationships       0.033333\n",
       "Politics & Social Sciences      0.033333\n",
       "Reference                       0.033333\n",
       "Religion & Spirituality         0.033333\n",
       "Romance                         0.033333\n",
       "Science & Math                  0.033333\n",
       "Science Fiction & Fantasy       0.033333\n",
       "Self-Help                       0.033333\n",
       "Sports & Outdoors               0.033333\n",
       "Teen & Young Adult              0.033333\n",
       "Test Preparation                0.033333\n",
       "Travel                          0.033333\n",
       "Name: name, dtype: float64"
      ]
     },
     "execution_count": 9,
     "metadata": {},
     "output_type": "execute_result"
    }
   ],
   "source": [
    "percent_classes"
   ]
  },
  {
   "cell_type": "code",
   "execution_count": 10,
   "metadata": {},
   "outputs": [
    {
     "data": {
      "text/plain": [
       "<matplotlib.axes._subplots.AxesSubplot at 0x1d1f0f5d908>"
      ]
     },
     "execution_count": 10,
     "metadata": {},
     "output_type": "execute_result"
    },
    {
     "data": {
      "image/png": "[encoded data removed]",
      "text/plain": [
       "<matplotlib.figure.Figure at 0x1d1f0f5d1d0>"
      ]
     },
     "metadata": {
      "needs_background": "light"
     },
     "output_type": "display_data"
    }
   ],
   "source": [
    "percent_classes.sort_values().plot(kind='bar', figsize=(10, 6))"
   ]
  },
  {
   "cell_type": "code",
   "execution_count": 11,
   "metadata": {},
   "outputs": [],
   "source": [
    "train_meta_data[['file_name', 'title', 'author', 'category']].to_csv(root+'dataset_label/train_file.csv', index=False)\n",
    "test_meta_data[['file_name', 'title', 'author', 'category']].to_csv(root+'dataset_label/test_file.csv', index=False)"
   ]
  },
  {
   "cell_type": "code",
   "execution_count": null,
   "metadata": {},
   "outputs": [],
   "source": []
  }
 ],
 "metadata": {
  "kernelspec": {
   "display_name": "Python 3",
   "language": "python",
   "name": "python3"
  },
  "language_info": {
   "codemirror_mode": {
    "name": "ipython",
    "version": 3
   },
   "file_extension": ".py",
   "mimetype": "text/x-python",
   "name": "python",
   "nbconvert_exporter": "python",
   "pygments_lexer": "ipython3",
   "version": "3.5.5"
  }
 },
 "nbformat": 4,
 "nbformat_minor": 2
}
